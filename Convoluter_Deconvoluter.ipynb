{
 "cells": [
  {
   "cell_type": "code",
   "execution_count": 7,
   "metadata": {},
   "outputs": [],
   "source": [
    "#import cell\n",
    "\n",
    "import numpy as np\n",
    "import matplotlib\n",
    "import matplotlib.pyplot as plt\n",
    "import simpleaudio as sa\n",
    "import scipy\n",
    "from scipy.io import wavfile as wav\n",
    "from scipy import signal as sig\n",
    "import decimal as dec"
   ]
  },
  {
   "cell_type": "code",
   "execution_count": 15,
   "metadata": {},
   "outputs": [
    {
     "name": "stdout",
     "output_type": "stream",
     "text": [
      "53065\n",
      "53065\n"
     ]
    }
   ],
   "source": [
    "#import wav file for the pure sine sweep, guitar sine sweep, and room sine sweep.\n",
    "\n",
    "fs, sine_sweep = wav.read('Sine Sweep.wav')\n",
    "fs, guitar_sweep = wav.read('Guitar IR Sweep.wav')\n",
    "\n",
    "def zero_pad(x, y):\n",
    "    \n",
    "\n",
    "\n",
    "\n",
    "#Guitar_sweep = Y[n]\n",
    "#Sine_sweep = X[n]"
   ]
  }
 ],
 "metadata": {
  "kernelspec": {
   "display_name": "Python 3",
   "language": "python",
   "name": "python3"
  },
  "language_info": {
   "codemirror_mode": {
    "name": "ipython",
    "version": 3
   },
   "file_extension": ".py",
   "mimetype": "text/x-python",
   "name": "python",
   "nbconvert_exporter": "python",
   "pygments_lexer": "ipython3",
   "version": "3.7.4"
  }
 },
 "nbformat": 4,
 "nbformat_minor": 2
}
