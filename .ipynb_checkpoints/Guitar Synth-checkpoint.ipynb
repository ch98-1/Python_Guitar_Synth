{
 "cells": [
  {
   "cell_type": "code",
   "execution_count": 1,
   "metadata": {},
   "outputs": [],
   "source": [
    "#Import stuff\n",
    "import numpy as np\n",
    "\n",
    "#calculate IR for single sample\n",
    "def sample_IR(sample_mem, IR_pos, IR)\n",
    "    '''calculate single sample of IR filter from memory of past samples and IR\n",
    "    sample mem and IR should be the same length\n",
    "    pos is the start position for the samples'''\n",
    "    sample = 0.0\n",
    "    for x in range(0, len(sample_mem)):\n",
    "        sample += sample_mem[(IR_pos+x)%len(sample_mem)]*IR[len[IR]-x-1]\n",
    "        \n",
    "    return sample\n",
    "    \n",
    "#string sim function. \n",
    "def step_string(string, pos, length, rset, pluck, IR_mem, IR_pos, filter_IR):\n",
    "    '''function for incrementing the string simulation by 1 step\n",
    "    returns the sample for that step of simulation\n",
    "    pos will be incremented after each step\n",
    "    IR_pos will also be incremented''' \n",
    "    string[(pos+last)%len(string):(pos)%len(string)]\n",
    "    string[(pos+length)%len(string)] = sample_IR(IR_mem, IR_pos, filter_IR)\n",
    "    sample = string[pos%len(string)]\n",
    "    IR_mem[IR_pos%len(IR_mem)] = sample\n",
    "    return sample, string, IR_mem, pos+1, IR_pos+1\n",
    "\n",
    "def make_string(sample_rate, min_f, oversampling, filter_IR):\n",
    "    '''create string'''\n",
    "    IR_mem = np.zeros(len(filter_IR))\n",
    "    string = np.zeros(sample_rate*min_f*oversampling)\n",
    "    return string, IR_mem, 0, 0\n",
    "\n",
    "def make_lowpass_IR(sample_rate, oversampling, f_cutoff, loss)\n",
    "    '''create lowpass IR to be used for the string\n",
    "    loss is the loss factor for every cycle'''\n",
    "    filter_IR = np.zeros((sample_rate*oversampling)/(f_cutoff*2))\n",
    "    filter_IR[0:len(filter_IR) - 1] = (1 - loss)/len(filter_IR)\n",
    "    return filter_IR"
   ]
  },
  {
   "cell_type": "code",
   "execution_count": null,
   "metadata": {},
   "outputs": [],
   "source": []
  }
 ],
 "metadata": {
  "kernelspec": {
   "display_name": "Python 3",
   "language": "python",
   "name": "python3"
  },
  "language_info": {
   "codemirror_mode": {
    "name": "ipython",
    "version": 3
   },
   "file_extension": ".py",
   "mimetype": "text/x-python",
   "name": "python",
   "nbconvert_exporter": "python",
   "pygments_lexer": "ipython3",
   "version": "3.7.6"
  }
 },
 "nbformat": 4,
 "nbformat_minor": 2
}
